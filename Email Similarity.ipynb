{
 "cells": [
  {
   "cell_type": "markdown",
   "metadata": {},
   "source": [
    "# Machine Learning: Supervised Learning\n",
    "# Email Similarity: a Naive Bayes problem\n",
    "### Eleazar I. Madariaga González\n",
    "### 16/07/2020"
   ]
  },
  {
   "cell_type": "markdown",
   "metadata": {},
   "source": [
    "In this project, I'll use scikit-learn’s Naive Bayes implementation on several different datasets. By reporting the accuracy of the classifier, we can find which datasets are harder to distinguish. For example:  \n",
    "How difficult do you think it is to distinguish the difference between emails about hockey and emails about soccer?  \n",
    "How hard is it to tell the difference between emails about hockey and emails about tech?  \n",
    "In this project, I’ll find out exactly how difficult those two tasks are."
   ]
  },
  {
   "cell_type": "markdown",
   "metadata": {},
   "source": [
    "## 1: Exploring the Data"
   ]
  },
  {
   "cell_type": "markdown",
   "metadata": {},
   "source": [
    "I’ve imported a dataset of emails from scikit-learn’s datasets. All of these emails are tagged based on their content. "
   ]
  },
  {
   "cell_type": "code",
   "execution_count": 3,
   "metadata": {},
   "outputs": [
    {
     "name": "stdout",
     "output_type": "stream",
     "text": [
      "['alt.atheism', 'comp.graphics', 'comp.os.ms-windows.misc', 'comp.sys.ibm.pc.hardware', 'comp.sys.mac.hardware', 'comp.windows.x', 'misc.forsale', 'rec.autos', 'rec.motorcycles', 'rec.sport.baseball', 'rec.sport.hockey', 'sci.crypt', 'sci.electronics', 'sci.med', 'sci.space', 'soc.religion.christian', 'talk.politics.guns', 'talk.politics.mideast', 'talk.politics.misc', 'talk.religion.misc']\n"
     ]
    }
   ],
   "source": [
    "from sklearn.datasets import fetch_20newsgroups\n",
    "from sklearn.naive_bayes import MultinomialNB\n",
    "from sklearn.feature_extraction.text import CountVectorizer\n",
    "\n",
    "emails = fetch_20newsgroups()\n",
    "# Print emails.target_names to see the different categories\n",
    "print(emails.target_names)"
   ]
  },
  {
   "cell_type": "markdown",
   "metadata": {},
   "source": [
    "We’re interested in seeing how effective our Naive Bayes classifier is at telling the difference between a baseball email and a hockey email. We can select the categories of articles we want from __fetch_20newsgroups__ by adding the parameter __categories__.  \n",
    "In the function call, set categories equal to the list __['rec.sport.baseball', 'rec.sport.hockey']__"
   ]
  },
  {
   "cell_type": "code",
   "execution_count": 4,
   "metadata": {},
   "outputs": [
    {
     "name": "stdout",
     "output_type": "stream",
     "text": [
      "['rec.sport.baseball', 'rec.sport.hockey']\n"
     ]
    }
   ],
   "source": [
    "emails = fetch_20newsgroups(categories = ['rec.sport.baseball', 'rec.sport.hockey'])\n",
    "print(emails.target_names)"
   ]
  },
  {
   "cell_type": "markdown",
   "metadata": {},
   "source": [
    "Let’s take a look at one of these emails. All of the emails are stored in a list called __emails.data__."
   ]
  },
  {
   "cell_type": "code",
   "execution_count": 5,
   "metadata": {},
   "outputs": [
    {
     "name": "stdout",
     "output_type": "stream",
     "text": [
      "From: mmb@lamar.ColoState.EDU (Michael Burger)\n",
      "Subject: More TV Info\n",
      "Distribution: na\n",
      "Nntp-Posting-Host: lamar.acns.colostate.edu\n",
      "Organization: Colorado State University, Fort Collins, CO  80523\n",
      "Lines: 36\n",
      "\n",
      "United States Coverage:\n",
      "Sunday April 18\n",
      "  N.J./N.Y.I. at Pittsburgh - 1:00 EDT to Eastern Time Zone\n",
      "  ABC - Gary Thorne and Bill Clement\n",
      "\n",
      "  St. Louis at Chicago - 12:00 CDT and 11:00 MDT - to Central/Mountain Zones\n",
      "  ABC - Mike Emerick and Jim Schoenfeld\n",
      "\n",
      "  Los Angeles at Calgary - 12:00 PDT and 11:00 ADT - to Pacific/Alaskan Zones\n",
      "  ABC - Al Michaels and John Davidson\n",
      "\n",
      "Tuesday, April 20\n",
      "  N.J./N.Y.I. at Pittsburgh - 7:30 EDT Nationwide\n",
      "  ESPN - Gary Thorne and Bill Clement\n",
      "\n",
      "Thursday, April 22 and Saturday April 24\n",
      "  To Be Announced - 7:30 EDT Nationwide\n",
      "  ESPN - To Be Announced\n",
      "\n",
      "\n",
      "Canadian Coverage:\n",
      "\n",
      "Sunday, April 18\n",
      "  Buffalo at Boston - 7:30 EDT Nationwide\n",
      "  TSN - ???\n",
      "\n",
      "Tuesday, April 20\n",
      "  N.J.D./N.Y. at Pittsburgh - 7:30 EDT Nationwide\n",
      "  TSN - ???\n",
      "\n",
      "Wednesday, April 21\n",
      "  St. Louis at Chicago - 8:30 EDT Nationwide\n",
      "  TSN - ???\n",
      "\n",
      "\n",
      "\n",
      "\n"
     ]
    }
   ],
   "source": [
    "# Print the email at index 5 in the list\n",
    "print(emails.data[5])"
   ]
  },
  {
   "cell_type": "markdown",
   "metadata": {},
   "source": [
    "All of the labels can be found in the list __emails.target__"
   ]
  },
  {
   "cell_type": "code",
   "execution_count": 6,
   "metadata": {},
   "outputs": [
    {
     "name": "stdout",
     "output_type": "stream",
     "text": [
      "1\n"
     ]
    }
   ],
   "source": [
    "# Print the label of the email at index 5\n",
    "print(emails.target[5])"
   ]
  },
  {
   "cell_type": "markdown",
   "metadata": {},
   "source": [
    "The labels themselves are numbers, but those numbers correspond to the label names found at __emails.target_names__.  \n",
    "Is this a baseball email or a hockey email?"
   ]
  },
  {
   "cell_type": "code",
   "execution_count": 7,
   "metadata": {},
   "outputs": [
    {
     "name": "stdout",
     "output_type": "stream",
     "text": [
      "['rec.sport.baseball', 'rec.sport.hockey']\n"
     ]
    }
   ],
   "source": [
    "# The target of email 5 is 1, which corresponds to rec.sport.hockey\n",
    "print(emails.target_names)"
   ]
  },
  {
   "cell_type": "markdown",
   "metadata": {},
   "source": [
    "## 2: Making the Training  and Test Sets"
   ]
  },
  {
   "cell_type": "markdown",
   "metadata": {},
   "source": [
    "We now want to split our data into training and test sets. Change the name of our variable from __emails__ to __train_emails__. Add these three parameters to the function call:\n",
    "\n",
    "* subset='train'\n",
    "* shuffle = True\n",
    "* random_state = 108\n",
    "\n",
    "Adding the __random_state__ parameter will make sure that every time we run the code, our dataset is split in the same way."
   ]
  },
  {
   "cell_type": "code",
   "execution_count": 10,
   "metadata": {},
   "outputs": [],
   "source": [
    "train_emails = fetch_20newsgroups(\n",
    "    categories = ['rec.sport.baseball', 'rec.sport.hockey'], \n",
    "    subset = 'train', \n",
    "    shuffle =  True,\n",
    "    random_state = 108)"
   ]
  },
  {
   "cell_type": "markdown",
   "metadata": {},
   "source": [
    "Create another variable named __test_emails__ and set it equal to __fetch_20newsgroups__. The parameters of the function should be the same as before except __subset__ should now be __'test'__."
   ]
  },
  {
   "cell_type": "code",
   "execution_count": 11,
   "metadata": {},
   "outputs": [],
   "source": [
    "test_emails = fetch_20newsgroups(\n",
    "    categories = ['rec.sport.baseball', 'rec.sport.hockey'], \n",
    "    subset = 'test', \n",
    "    shuffle =  True,\n",
    "    random_state = 108)"
   ]
  },
  {
   "cell_type": "markdown",
   "metadata": {},
   "source": [
    "## 3: Counting Words"
   ]
  },
  {
   "cell_type": "markdown",
   "metadata": {},
   "source": [
    "We want to transform these emails into lists of word counts. The __CountVectorizer__ class makes this easy for us.  \n",
    "Create a __CountVectorizer__ object and name it __counter__."
   ]
  },
  {
   "cell_type": "code",
   "execution_count": 12,
   "metadata": {},
   "outputs": [],
   "source": [
    "counter = CountVectorizer()"
   ]
  },
  {
   "cell_type": "markdown",
   "metadata": {},
   "source": [
    "We need to tell __counter__ what possible words can exist in our emails __.counter__ has a __.fit()__ a function that takes a list of all our data.  \n",
    "Call __.fit()__ with __test_emails.data__ + __train_emails.data__ as a parameter."
   ]
  },
  {
   "cell_type": "code",
   "execution_count": 13,
   "metadata": {},
   "outputs": [
    {
     "data": {
      "text/plain": [
       "CountVectorizer(analyzer='word', binary=False, decode_error='strict',\n",
       "        dtype=<class 'numpy.int64'>, encoding='utf-8', input='content',\n",
       "        lowercase=True, max_df=1.0, max_features=None, min_df=1,\n",
       "        ngram_range=(1, 1), preprocessor=None, stop_words=None,\n",
       "        strip_accents=None, token_pattern='(?u)\\\\b\\\\w\\\\w+\\\\b',\n",
       "        tokenizer=None, vocabulary=None)"
      ]
     },
     "execution_count": 13,
     "metadata": {},
     "output_type": "execute_result"
    }
   ],
   "source": [
    "counter.fit(test_emails.data + train_emails.data)"
   ]
  },
  {
   "cell_type": "markdown",
   "metadata": {},
   "source": [
    "We can now make a list of the counts of our words in our training set.  \n",
    "Create a variable named __train_counts__. Set it equal to __counter__‘s __transform__ function using __train_emails.data__ as a parameter."
   ]
  },
  {
   "cell_type": "code",
   "execution_count": 14,
   "metadata": {},
   "outputs": [],
   "source": [
    "train_counts = counter.transform(train_emails.data)"
   ]
  },
  {
   "cell_type": "markdown",
   "metadata": {},
   "source": [
    "Let’s also make a variable named __test_counts__. This should be the same function call as before, but use __test_emails.data__ as the parameter of transform."
   ]
  },
  {
   "cell_type": "code",
   "execution_count": 15,
   "metadata": {},
   "outputs": [],
   "source": [
    "test_counts = counter.transform(test_emails.data)"
   ]
  },
  {
   "cell_type": "markdown",
   "metadata": {},
   "source": [
    "## 4: Making a naive Bayes Classifier"
   ]
  },
  {
   "cell_type": "markdown",
   "metadata": {},
   "source": [
    "Let’s now make a Naive Bayes classifier that we can train and test on. Create a MultinomialNB object named __classifier__."
   ]
  },
  {
   "cell_type": "code",
   "execution_count": 16,
   "metadata": {},
   "outputs": [],
   "source": [
    "classifier = MultinomialNB()"
   ]
  },
  {
   "cell_type": "markdown",
   "metadata": {},
   "source": [
    "Call classifier‘s __.fit()__ function. __.fit()__ takes two parameters:  \n",
    "* The first should be our training set, which for us is __train_counts__.  \n",
    "* The second should be the labels associated with the training emails. Those are found in __train_emails.target__."
   ]
  },
  {
   "cell_type": "code",
   "execution_count": 17,
   "metadata": {},
   "outputs": [
    {
     "data": {
      "text/plain": [
       "MultinomialNB(alpha=1.0, class_prior=None, fit_prior=True)"
      ]
     },
     "execution_count": 17,
     "metadata": {},
     "output_type": "execute_result"
    }
   ],
   "source": [
    "classifier.fit(train_counts, train_emails.target)"
   ]
  },
  {
   "cell_type": "markdown",
   "metadata": {},
   "source": [
    "Test the Naive Bayes Classifier by printing __classifier__‘s __.score()__ function. __.score()__ takes the test set and the test labels as parameters.  \n",
    "__.score()__ returns the accuracy of the classifier on the test data. Accuracy measures the percentage of classifications a classifier correctly made."
   ]
  },
  {
   "cell_type": "code",
   "execution_count": 18,
   "metadata": {},
   "outputs": [
    {
     "name": "stdout",
     "output_type": "stream",
     "text": [
      "0.9723618090452262\n"
     ]
    }
   ],
   "source": [
    "# the two parameters to .score() should be test_counts and test_emails.target\n",
    "print(classifier.score(test_counts, test_emails.target))"
   ]
  },
  {
   "cell_type": "markdown",
   "metadata": {},
   "source": [
    "__.score()__ will classify all the emails in the test set and compare the classification of each email to its actual label.  \n",
    "After completing these comparisons, it will calculate and return the accuracy."
   ]
  },
  {
   "cell_type": "markdown",
   "metadata": {},
   "source": [
    "## 5: Testing Other Datasets"
   ]
  },
  {
   "cell_type": "markdown",
   "metadata": {},
   "source": [
    "Our classifier does a pretty good job distinguishing between soccer emails and hockey emails. But let’s see how it does with emails about really different topics.  \n",
    "Find where we create __train_emails__ and __test_emails__. Change the categories to be __['comp.sys.ibm.pc.hardware', 'rec.sport.hockey']__.  \n",
    "Did our classifier do a better or worse job on these two datasets?"
   ]
  },
  {
   "cell_type": "code",
   "execution_count": 21,
   "metadata": {},
   "outputs": [
    {
     "name": "stdout",
     "output_type": "stream",
     "text": [
      "0.9974715549936789\n"
     ]
    }
   ],
   "source": [
    "# train_emails\n",
    "train_emails = fetch_20newsgroups(\n",
    "    categories = ['comp.sys.ibm.pc.hardware', 'rec.sport.hockey'], \n",
    "    subset = 'train', \n",
    "    shuffle =  True,\n",
    "    random_state = 108)\n",
    "\n",
    "# test_emails\n",
    "test_emails = fetch_20newsgroups(\n",
    "    categories = ['comp.sys.ibm.pc.hardware', 'rec.sport.hockey'], \n",
    "    subset = 'test', \n",
    "    shuffle =  True,\n",
    "    random_state = 108)\n",
    "\n",
    "counter = CountVectorizer()\n",
    "counter.fit(test_emails.data + train_emails.data)\n",
    "train_counts = counter.transform(train_emails.data)\n",
    "test_counts = counter.transform(test_emails.data)\n",
    "classifier = MultinomialNB()\n",
    "classifier.fit(train_counts, train_emails.target)\n",
    "\n",
    "print(classifier.score(test_counts, test_emails.target))"
   ]
  },
  {
   "cell_type": "markdown",
   "metadata": {},
   "source": [
    "The classifier was 99% accurate when trying to classify hockey and tech emails.  \n",
    "This is better than when it was trying to classify hockey and soccer emails. This makes sense — emails about sports probably share more words in common.\n"
   ]
  },
  {
   "cell_type": "markdown",
   "metadata": {},
   "source": [
    "We can play around with different sets of data. We can find a set that’s incredibly accurate or incredibly inaccurate?  \n",
    "The possible categories are listed below.\n",
    "\n",
    "* 'alt.atheism'\n",
    "* 'comp.graphics'\n",
    "* 'comp.os.ms-windows.misc'\n",
    "* 'comp.sys.ibm.pc.hardware'\n",
    "* 'comp.sys.mac.hardware'\n",
    "* 'comp.windows.x'\n",
    "* 'misc.forsale'\n",
    "* 'rec.autos'\n",
    "* 'rec.motorcycles'\n",
    "* 'rec.sport.baseball'\n",
    "* 'rec.sport.hockey'\n",
    "* 'sci.crypt'\n",
    "* 'sci.electronics'\n",
    "* 'sci.med'\n",
    "* 'sci.space'\n",
    "* 'soc.religion.christian'\n",
    "* 'talk.politics.guns'\n",
    "* 'talk.politics.mideast'\n",
    "* 'talk.politics.misc'\n",
    "* 'talk.religion.misc'"
   ]
  },
  {
   "cell_type": "markdown",
   "metadata": {},
   "source": [
    "Example with the categories: __['alt.atheism', 'rec.autos']__."
   ]
  },
  {
   "cell_type": "code",
   "execution_count": 22,
   "metadata": {},
   "outputs": [
    {
     "name": "stdout",
     "output_type": "stream",
     "text": [
      "0.9916083916083916\n"
     ]
    }
   ],
   "source": [
    "# train_emails\n",
    "train_emails = fetch_20newsgroups(\n",
    "    categories = ['alt.atheism', 'rec.autos'], \n",
    "    subset = 'train', \n",
    "    shuffle =  True,\n",
    "    random_state = 108)\n",
    "\n",
    "# test_emails\n",
    "test_emails = fetch_20newsgroups(\n",
    "    categories = ['alt.atheism', 'rec.autos'], \n",
    "    subset = 'test', \n",
    "    shuffle =  True,\n",
    "    random_state = 108)\n",
    "\n",
    "counter = CountVectorizer()\n",
    "counter.fit(test_emails.data + train_emails.data)\n",
    "train_counts = counter.transform(train_emails.data)\n",
    "test_counts = counter.transform(test_emails.data)\n",
    "classifier = MultinomialNB()\n",
    "classifier.fit(train_counts, train_emails.target)\n",
    "\n",
    "print(classifier.score(test_counts, test_emails.target))"
   ]
  },
  {
   "cell_type": "markdown",
   "metadata": {},
   "source": [
    "                                                                                                                   By  \n",
    "                                                                                        Eleazar I. Madariaga González\n",
    "                                                                                  As part of my Data Analyst training\n",
    "                                                                                Thanks to Codecademy for the guidance "
   ]
  },
  {
   "cell_type": "code",
   "execution_count": null,
   "metadata": {},
   "outputs": [],
   "source": []
  }
 ],
 "metadata": {
  "kernelspec": {
   "display_name": "Python 3",
   "language": "python",
   "name": "python3"
  },
  "language_info": {
   "codemirror_mode": {
    "name": "ipython",
    "version": 3
   },
   "file_extension": ".py",
   "mimetype": "text/x-python",
   "name": "python",
   "nbconvert_exporter": "python",
   "pygments_lexer": "ipython3",
   "version": "3.7.3"
  }
 },
 "nbformat": 4,
 "nbformat_minor": 2
}
